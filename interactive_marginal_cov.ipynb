{
 "cells": [
  {
   "cell_type": "code",
   "execution_count": 8,
   "id": "directed-alignment",
   "metadata": {},
   "outputs": [],
   "source": [
    "from __future__ import print_function\n",
    "from ipywidgets import interact, interactive, fixed, interact_manual\n",
    "import ipywidgets as widgets\n",
    "import numpy as np\n",
    "import scipy.linalg as spla\n",
    "import seaborn as sns\n",
    "import matplotlib.pyplot as plt\n",
    "import matplotlib\n",
    "import numpy.random as npr"
   ]
  },
  {
   "cell_type": "code",
   "execution_count": 5,
   "id": "adjustable-hebrew",
   "metadata": {},
   "outputs": [],
   "source": [
    "def create_sigma(Ur, Ul, A, B, C, D, log_yl_var, log_yr_var, log_w_var):\n",
    "\n",
    "  Sig_yl = np.diag(np.exp(log_yl_var))\n",
    "  Sig_yr = np.diag(np.exp(log_yr_var))\n",
    "  Sig_w  = np.diag(np.exp(log_w_var))\n",
    "  \n",
    "#   print(f\"{B @ Sig_yl @ B.T + A @ (Ur @ Sig_z @ Ur.T + Sig_yr) @ A.T + Sig_w=}\")\n",
    "    \n",
    "\n",
    "  Sig_wz = spla.block_diag(\n",
    "    B @ Sig_yl @ B.T + A @ (Ur @ Sig_z @ Ur.T + Sig_yr) @ A.T + Sig_w, \n",
    "    D @ Sig_yl @ D.T + C @ (Ur @ Sig_z @ Ur.T + Sig_yr) @ C.T + Sig_w,\n",
    "    A @ Sig_yr @ A.T + B @ (Ul @ Sig_z @ Ul.T + Sig_yl) @ B.T + Sig_w,\n",
    "    C @ Sig_yr @ C.T + D @ (Ul @ Sig_z @ Ul.T + Sig_yl) @ D.T + Sig_w,\n",
    "  )\n",
    "\n",
    "  M = np.vstack([\n",
    "    B @ Ul,\n",
    "    D @ Ul,\n",
    "    A @ Ur,\n",
    "    C @ Ur,\n",
    "  ])\n",
    "\n",
    "  return M @ Sig_z @ M.T + Sig_wz, M, Sig_wz\n",
    "\n",
    "def npr_init_params(seed, z_dim=50, y_dim=50, w_dim=50, scale=.5):\n",
    "\n",
    "    # Parameters\n",
    "    Ur = scale * npr.randn(y_dim, z_dim)\n",
    "    Ul = scale * npr.randn(y_dim, z_dim)\n",
    "\n",
    "    A = scale * npr.randn(w_dim, y_dim)\n",
    "    B = scale * npr.randn(w_dim, y_dim)\n",
    "    C = scale * npr.randn(w_dim, y_dim)\n",
    "    D = scale * npr.randn(w_dim, y_dim)\n",
    "\n",
    "    log_yl_var = np.log(scale) + npr.randn(y_dim)\n",
    "    log_yr_var = np.log(scale) +  npr.randn(y_dim)\n",
    "    log_w_var = np.log(scale) +  npr.randn(w_dim)\n",
    "\n",
    "    W = scale * npr.randn(20, w_dim)\n",
    "    \n",
    "    return (Ur, Ul, A, B, C, D, log_yl_var, log_yr_var, log_w_var, W)\n",
    "\n",
    "Sig_z = np.eye(1)"
   ]
  },
  {
   "cell_type": "code",
   "execution_count": 107,
   "id": "imposed-secret",
   "metadata": {},
   "outputs": [
    {
     "data": {
      "application/vnd.jupyter.widget-view+json": {
       "model_id": "b8e9f874dfe34ad0ab859e699288313e",
       "version_major": 2,
       "version_minor": 0
      },
      "text/plain": [
       "interactive(children=(FloatSlider(value=1.0, description='scaleA', max=2.0), FloatSlider(value=1.0, descriptio…"
      ]
     },
     "metadata": {},
     "output_type": "display_data"
    }
   ],
   "source": [
    "params = npr_init_params(np.random.seed(1), 1,1,1, scale=1)\n",
    "\n",
    "\n",
    "global_scale = (0.0,2.0)\n",
    "@interact(scaleA=global_scale, scaleB=global_scale ,scaleC=global_scale, scaleD=global_scale, scaleUr=global_scale, scaleUl=global_scale)\n",
    "def plot_dependency(scaleA, scaleB, scaleC, scaleD,scaleUr,scaleUl):\n",
    "    Ur, Ul, A, B, C, D, log_yl_var, log_yr_var, log_w_var = params[:-1]\n",
    "    new_params = (scaleUr*Ur, scaleUl*Ul, scaleA*A, scaleB*B, scaleC*C, scaleD*D, log_yl_var, log_yr_var, log_w_var)\n",
    "     \n",
    "    S, _, Sig_wz = create_sigma(*new_params)\n",
    "    \n",
    "    corr_mat_w = S / np.outer(np.sqrt(np.diag(S)), np.sqrt(np.diag(S)))\n",
    "    corr_mat_wz = Sig_wz / np.outer(np.sqrt(np.diag(Sig_wz)), np.sqrt(np.diag(Sig_wz)))\n",
    "    inv_cm_w = spla.inv(corr_mat_w)\n",
    "    inv_cm_wz = spla.inv(corr_mat_wz)\n",
    "    fig, axs = plt.subplots(1, 2, figsize=(20,30))\n",
    "    mats = [S, spla.inv(S)]#, Sig_wz, spla.inv(Sig_wz)]\n",
    "    titles = [\"$\\Sigma_W$\", \"$\\Lambda_W = \\Sigma^{-1}_W$\"]#, \"$\\Sigma_{W|Z}$\", \"$\\Sigma^{-1}_{W|Z}$\"]\n",
    "    mask = np.zeros_like(mats[0])\n",
    "    mask[np.tril_indices_from(mask)] = True\n",
    "    fig.subplots_adjust( wspace=0.50)\n",
    "#     cbar_ax = fig.add_axes([.91, .3, .03, .4])\n",
    "    cmaps=[\"gist_ncar\",\"gist_ncar\"]\n",
    "    vmin = np.min(mats)\n",
    "    vmax = np.max(mats)\n",
    "    with sns.axes_style(\"dark\"):\n",
    "        for i, ax in enumerate(axs.ravel()):  # reserve last axis for colorbar\n",
    "    #         im = ax.imshow(mats[i], cmap=\"gist_stern\")\n",
    "            ax.set_title(titles[i], fontsize='xx-large')\n",
    "            ax.xaxis.tick_top()\n",
    "            hm = sns.heatmap(mats[i], ax=ax, square=True, annot=True,annot_kws={'fontsize': 'large'}, cbar=False, cmap=cmaps[i])\n",
    "            hm.set_xticklabels([\"$w_{-2}$\",\"$w_{-1}$\",\"$w_{1}$\",\"$w_{2}$\"], fontsize='x-large')\n",
    "            hm.set_yticklabels([\"$w_{-2}$\",\"$w_{-1}$\",\"$w_{1}$\",\"$w_{2}$\"],fontsize='x-large')\n",
    "            \n",
    "#         fig.colorbar(axs[1].collections[0], cax=axs[2])\n",
    "\n",
    "\n",
    "#             plt.show()\n",
    "            # fraction and pad are magic numbers from stackoverflow\n",
    "    desc_str = \"\"\"\n",
    "    Effect of Scaling $U_r$, $U_l$, A,B,C,D on $\\Sigma_W$ and $\\Lambda_W = \\Sigma^{-1}_W$:\\n\n",
    "    diag($[[B\\Sigma_\\ell B^T + A(U_r\\Sigma_z U_r^T + \\Sigma_r)A^T + \\Sigma_w]~,\\qquad ~~~ [[BU_\\ell \\Sigma_z (BU_\\ell)^T~, BU_\\ell \\Sigma_z (DU_\\ell)^T~, BU_\\ell \\Sigma_z (AU_r)^T~, BU_\\ell \\Sigma_z (CU_r)^T]~,$\n",
    "    $~~~~\\qquad[D \\Sigma_\\ell D^T + C(U_r\\Sigma_zU_r^T+ \\Sigma_r)C^T +\\Sigma_w]~, \\quad + \\quad [DU_\\ell \\Sigma_z (BU_\\ell)^T~,  DU_\\ell \\Sigma_z (DU_\\ell)^T~,  DU_\\ell \\Sigma_z (AU_r)^T~,  DU_\\ell \\Sigma_z (CU_r)^T]~,$\n",
    "    $~~~~~~\\quad[A\\Sigma_r A^T + B(U_\\ell\\Sigma_zU_\\ell^T + \\Sigma_l)B^T + \\Sigma_w],\\qquad ~~~~~~[AU_r \\Sigma_z (BU_\\ell)^T~,    AU_r \\Sigma_z (DU_\\ell)^T~,    AU_r \\Sigma_z (AU_r)^T~,    AU_r \\Sigma_z (CU_r)^T]~,$\n",
    "    $~~~\\qquad[C\\Sigma_r C^T + D(U_\\ell\\Sigma_zU_\\ell^T + \\Sigma_l)D^T + \\Sigma_w]])\\qquad ~~~~ [CU_r \\Sigma_z (BU_\\ell)^T~, CU_r \\Sigma_z (DU_\\ell)^T~, CU_r \\Sigma_z (AU_r)^T~, CU_r \\Sigma_z (CU_r)^T]]$\"\"\"\n",
    "    fig.suptitle(desc_str , y=.73, fontsize='xx-large')"
   ]
  },
  {
   "cell_type": "code",
   "execution_count": null,
   "id": "dated-faith",
   "metadata": {},
   "outputs": [],
   "source": []
  }
 ],
 "metadata": {
  "kernelspec": {
   "display_name": "Python 3",
   "language": "python",
   "name": "python3"
  },
  "language_info": {
   "codemirror_mode": {
    "name": "ipython",
    "version": 3
   },
   "file_extension": ".py",
   "mimetype": "text/x-python",
   "name": "python",
   "nbconvert_exporter": "python",
   "pygments_lexer": "ipython3",
   "version": "3.8.8"
  }
 },
 "nbformat": 4,
 "nbformat_minor": 5
}
